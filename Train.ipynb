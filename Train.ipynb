{
 "cells": [
  {
   "cell_type": "markdown",
   "metadata": {},
   "source": [
    "410721242 資工四 何昀軒"
   ]
  },
  {
   "cell_type": "code",
   "execution_count": 1,
   "metadata": {},
   "outputs": [],
   "source": [
    "# import module\n",
    "import torch\n",
    "import torch.nn as nn\n",
    "from Dataset import myDataset\n",
    "import matplotlib.pyplot as plt\n",
    "from torch.utils.data import DataLoader\n",
    "import torchvision.transforms as transforms"
   ]
  },
  {
   "cell_type": "code",
   "execution_count": 2,
   "metadata": {},
   "outputs": [],
   "source": [
    "# Parameters\n",
    "num_classes = 3\n",
    "num_epochs = 30\n",
    "BATCH_SIZE = 64"
   ]
  },
  {
   "cell_type": "code",
   "execution_count": 3,
   "metadata": {},
   "outputs": [],
   "source": [
    "# Load train and test data\n",
    "trn_data = myDataset(file=\"train.csv\", transform=transforms.ToTensor())\n",
    "# split 70% data for train, 30% for validation\n",
    "train_size = int(0.7 * len(trn_data))\n",
    "valid_size = len(trn_data) - train_size\n",
    "trn_data, valid_data = torch.utils.data.random_split(trn_data, [train_size, valid_size])\n",
    "tst_data = myDataset(file=\"test.csv\", transform=transforms.ToTensor())\n",
    "\n",
    "trn_loader = DataLoader(dataset=trn_data, batch_size=BATCH_SIZE,shuffle=True)\n",
    "valid_loader = DataLoader(dataset=valid_data, batch_size=BATCH_SIZE,shuffle=True)\n",
    "tst_loader = DataLoader(dataset=tst_data, batch_size=BATCH_SIZE)"
   ]
  },
  {
   "cell_type": "code",
   "execution_count": 4,
   "metadata": {},
   "outputs": [],
   "source": [
    "# Model\n",
    "class CNN_Model(nn.Module):\n",
    "    def __init__(self):\n",
    "        super(CNN_Model, self).__init__()\n",
    "        \n",
    "        self.cnn1 = nn.Conv2d(                                      # Convolution 1 , input_shape = (1, 32, 32)\n",
    "                        in_channels=1,\n",
    "                        out_channels=32,\n",
    "                        kernel_size=5,\n",
    "                        stride=1,\n",
    "                        padding=2)                                  # output_shape = (32, 32, 32)\n",
    "        self.bn1 = nn.BatchNorm2d(32)                               # Batch normalization 1\n",
    "        self.relu1 = nn.ReLU()                                      # activation  \n",
    "        self.maxpool1 = nn.MaxPool2d(kernel_size=4)                 # Max pool 1 , output_shape = (32, 8, 8)\n",
    "        self.cnn2 = nn.Conv2d(                                      # Convolution 2\n",
    "                        in_channels=32,\n",
    "                        out_channels=64,\n",
    "                        kernel_size=5,\n",
    "                        stride=1,\n",
    "                        padding=2)                                  # output_shape = (64, 8, 8)\n",
    "        self.bn2 = nn.BatchNorm2d(64)                               # Batch normalization 2\n",
    "        self.relu2 = nn.ReLU()                                      # activation\n",
    "        self.maxpool2 = nn.MaxPool2d(kernel_size=4)                 # Max pool 2 , output_shape = (64, 2, 2)  \n",
    "        self.fc1 = nn.Linear(64*2*2, num_classes)                   # Fully connected 1 , input_shape = (64 * 2 * 2)\n",
    "    \n",
    "    def forward(self, x):\n",
    "        \n",
    "        x = self.cnn1(x)\n",
    "        x = self.relu1(self.bn1(x))\n",
    "        x = self.maxpool1(x)\n",
    "        x = self.cnn2(x)\n",
    "        x = self.relu2(self.bn2(x))                                 \n",
    "        x = self.maxpool2(x)\n",
    "        x = x.view(x.size(0), -1)                                   # flatten the output\n",
    "        output = self.fc1(x)                                        # Linear function (readout)\n",
    "        return output, x                                            # return x for visualization"
   ]
  },
  {
   "cell_type": "code",
   "execution_count": 5,
   "metadata": {},
   "outputs": [],
   "source": [
    "model = CNN_Model()\n",
    "optimizer = torch.optim.Adam(model.parameters(), lr=0.0002)         # optimize all cnn parameters\n",
    "loss_func = nn.CrossEntropyLoss()                                   # the target label is not one-hotted"
   ]
  },
  {
   "cell_type": "code",
   "execution_count": 6,
   "metadata": {},
   "outputs": [],
   "source": [
    "def fit_model(model, loss_func, optimizer, num_epochs, train_loader, test_loader):\n",
    "    # Traning the Model\n",
    "    training_loss = []                                              # list for store loss & acc value\n",
    "    training_accuracy = []\n",
    "    validation_loss = []\n",
    "    validation_accuracy = []\n",
    "    for epoch in range(num_epochs):\n",
    "        # training model & store loss & acc / epoch\n",
    "        correct_train = 0\n",
    "        total_train = 0\n",
    "        for i, (images, labels) in enumerate(train_loader):\n",
    "            \n",
    "            # Forward propagation\n",
    "            outputs = model(images)[0]                              # CNN model output\n",
    "            train_loss = loss_func(outputs, labels)                 # calculate cross entropy loss\n",
    "\n",
    "            # Backward\n",
    "            optimizer.zero_grad()                                   # clear gradients\n",
    "            train_loss.backward()                                   # backpropagation, calculate gradients\n",
    "\n",
    "            # Gradient Step\n",
    "            optimizer.step()                                        # apply gradients and update parameters\n",
    "\n",
    "            predicted = torch.max(outputs.data, 1)[1]               # get predictions from the maximum value\n",
    "            \n",
    "            total_train += len(labels)                              # total number of train data labels\n",
    "            correct_train += (predicted == labels).float().sum()    # total correct predictions of train data\n",
    "        \n",
    "        train_accuracy = 100 * correct_train / float(total_train)   # calculate & store train_acc / epoch\n",
    "        training_accuracy.append(train_accuracy)\n",
    "        training_loss.append(train_loss.data)                       # store loss / epoch\n",
    "        # evaluate model & store loss & acc / epoch\n",
    "        correct_test = 0\n",
    "        total_test = 0\n",
    "        for images, labels in test_loader:\n",
    "\n",
    "            # Forward propagation\n",
    "            outputs = model(images)[0] \n",
    "            val_loss = loss_func(outputs, labels)                   # Calculate softmax and cross entropy loss\n",
    "            predicted = torch.max(outputs.data, 1)[1]               # get predictions from the maximum value\n",
    "\n",
    "            \n",
    "            total_test += len(labels)                               # total number of test data labels\n",
    "            correct_test += (predicted == labels).float().sum()     # total correct predictions of test data\n",
    "\n",
    "        val_accuracy = 100 * correct_test / float(total_test)       # calculate & store val_acc / epoch\n",
    "        validation_accuracy.append(val_accuracy)\n",
    "        validation_loss.append(val_loss.data)                       # store val_loss / epoch\n",
    "\n",
    "        print('Train Epoch: {}/{} Traing_Loss: {} Traing_acc: {:.6f}% Val_Loss: {} Val_accuracy: {:.6f}%'.format(epoch+1, num_epochs, train_loss.data, train_accuracy, val_loss.data, val_accuracy))\n",
    "    \n",
    "    return training_loss, training_accuracy, validation_loss, validation_accuracy"
   ]
  },
  {
   "cell_type": "code",
   "execution_count": 7,
   "metadata": {},
   "outputs": [
    {
     "name": "stdout",
     "output_type": "stream",
     "text": [
      "Train Epoch: 1/30 Traing_Loss: 0.8525720238685608 Traing_acc: 48.677250% Val_Loss: 0.9149513840675354 Val_accuracy: 56.790123%\n",
      "Train Epoch: 2/30 Traing_Loss: 0.6855289936065674 Traing_acc: 72.751320% Val_Loss: 0.701896071434021 Val_accuracy: 79.629631%\n",
      "Train Epoch: 3/30 Traing_Loss: 0.5556931495666504 Traing_acc: 85.449738% Val_Loss: 0.5618810653686523 Val_accuracy: 85.802467%\n",
      "Train Epoch: 4/30 Traing_Loss: 0.49033257365226746 Traing_acc: 89.682541% Val_Loss: 0.5506885051727295 Val_accuracy: 88.271606%\n",
      "Train Epoch: 5/30 Traing_Loss: 0.41329658031463623 Traing_acc: 91.269844% Val_Loss: 0.4608863294124603 Val_accuracy: 87.654320%\n",
      "Train Epoch: 6/30 Traing_Loss: 0.3491668403148651 Traing_acc: 94.708992% Val_Loss: 0.3903864026069641 Val_accuracy: 91.358025%\n",
      "Train Epoch: 7/30 Traing_Loss: 0.3104687035083771 Traing_acc: 96.031746% Val_Loss: 0.32426974177360535 Val_accuracy: 92.592590%\n",
      "Train Epoch: 8/30 Traing_Loss: 0.293700635433197 Traing_acc: 96.296295% Val_Loss: 0.3107680082321167 Val_accuracy: 93.827164%\n",
      "Train Epoch: 9/30 Traing_Loss: 0.24981679022312164 Traing_acc: 97.089951% Val_Loss: 0.3222508132457733 Val_accuracy: 95.061729%\n",
      "Train Epoch: 10/30 Traing_Loss: 0.2231176197528839 Traing_acc: 96.825394% Val_Loss: 0.3172222077846527 Val_accuracy: 93.209877%\n",
      "Train Epoch: 11/30 Traing_Loss: 0.2121712863445282 Traing_acc: 97.354500% Val_Loss: 0.2603428363800049 Val_accuracy: 95.061729%\n",
      "Train Epoch: 12/30 Traing_Loss: 0.25488272309303284 Traing_acc: 98.148148% Val_Loss: 0.22303934395313263 Val_accuracy: 96.913582%\n",
      "Train Epoch: 13/30 Traing_Loss: 0.15888121724128723 Traing_acc: 98.148148% Val_Loss: 0.14633703231811523 Val_accuracy: 93.827164%\n",
      "Train Epoch: 14/30 Traing_Loss: 0.17644819617271423 Traing_acc: 98.412697% Val_Loss: 0.17273028194904327 Val_accuracy: 96.913582%\n",
      "Train Epoch: 15/30 Traing_Loss: 0.15930718183517456 Traing_acc: 99.206352% Val_Loss: 0.19012679159641266 Val_accuracy: 96.296295%\n",
      "Train Epoch: 16/30 Traing_Loss: 0.11723208427429199 Traing_acc: 99.206352% Val_Loss: 0.19922706484794617 Val_accuracy: 96.913582%\n",
      "Train Epoch: 17/30 Traing_Loss: 0.10865329951047897 Traing_acc: 99.206352% Val_Loss: 0.24739408493041992 Val_accuracy: 96.913582%\n",
      "Train Epoch: 18/30 Traing_Loss: 0.12337872385978699 Traing_acc: 99.735451% Val_Loss: 0.14290352165699005 Val_accuracy: 96.913582%\n",
      "Train Epoch: 19/30 Traing_Loss: 0.08938257396221161 Traing_acc: 100.000000% Val_Loss: 0.11644510924816132 Val_accuracy: 97.530861%\n",
      "Train Epoch: 20/30 Traing_Loss: 0.09202084690332413 Traing_acc: 99.470901% Val_Loss: 0.11838647723197937 Val_accuracy: 97.530861%\n",
      "Train Epoch: 21/30 Traing_Loss: 0.09029420465230942 Traing_acc: 100.000000% Val_Loss: 0.1676664501428604 Val_accuracy: 98.148148%\n",
      "Train Epoch: 22/30 Traing_Loss: 0.08726762235164642 Traing_acc: 100.000000% Val_Loss: 0.1299387663602829 Val_accuracy: 98.148148%\n",
      "Train Epoch: 23/30 Traing_Loss: 0.06575678288936615 Traing_acc: 100.000000% Val_Loss: 0.15636061131954193 Val_accuracy: 98.148148%\n",
      "Train Epoch: 24/30 Traing_Loss: 0.07987303286790848 Traing_acc: 100.000000% Val_Loss: 0.0764530822634697 Val_accuracy: 97.530861%\n",
      "Train Epoch: 25/30 Traing_Loss: 0.06634972989559174 Traing_acc: 100.000000% Val_Loss: 0.09978482127189636 Val_accuracy: 98.148148%\n",
      "Train Epoch: 26/30 Traing_Loss: 0.059077825397253036 Traing_acc: 100.000000% Val_Loss: 0.1123526394367218 Val_accuracy: 97.530861%\n",
      "Train Epoch: 27/30 Traing_Loss: 0.06327088177204132 Traing_acc: 100.000000% Val_Loss: 0.1267332136631012 Val_accuracy: 98.765434%\n",
      "Train Epoch: 28/30 Traing_Loss: 0.044915858656167984 Traing_acc: 100.000000% Val_Loss: 0.06862301379442215 Val_accuracy: 98.765434%\n",
      "Train Epoch: 29/30 Traing_Loss: 0.04328121989965439 Traing_acc: 100.000000% Val_Loss: 0.09603068232536316 Val_accuracy: 98.148148%\n",
      "Train Epoch: 30/30 Traing_Loss: 0.04585913568735123 Traing_acc: 100.000000% Val_Loss: 0.11292654275894165 Val_accuracy: 98.148148%\n"
     ]
    }
   ],
   "source": [
    "training_loss, training_accuracy, validation_loss, validation_accuracy = fit_model(model, loss_func, optimizer, num_epochs, trn_loader, valid_loader)"
   ]
  },
  {
   "cell_type": "code",
   "execution_count": 8,
   "metadata": {},
   "outputs": [
    {
     "name": "stdout",
     "output_type": "stream",
     "text": [
      "Test_accuracy: 97.500000%\n"
     ]
    }
   ],
   "source": [
    "# test the model\n",
    "correct_test = 0\n",
    "total_test = 0\n",
    "model.eval()\n",
    "with torch.no_grad():\n",
    "    for img, lbl in tst_loader:\n",
    "        predict = torch.max(model(img)[0], 1)[1]\n",
    "        total_test += predict.size()[0]\n",
    "        correct_test += (predict == lbl).float().sum()\n",
    "        test_accuracy = 100 * correct_test / float(total_test)\n",
    "    print('Test_accuracy: {:.6f}%'.format(test_accuracy))"
   ]
  },
  {
   "cell_type": "code",
   "execution_count": 9,
   "metadata": {},
   "outputs": [
    {
     "data": {
      "image/png": "[encoded data removed]",
      "text/plain": [
       "<Figure size 432x288 with 1 Axes>"
      ]
     },
     "metadata": {
      "needs_background": "light"
     },
     "output_type": "display_data"
    }
   ],
   "source": [
    "# visualization train & validation loss\n",
    "plt.plot(range(num_epochs), training_loss, label='Training_loss')\n",
    "plt.plot(range(num_epochs), validation_loss, label='validation_loss')\n",
    "plt.title('Training & Validation loss')\n",
    "plt.xlabel('Number of epochs')\n",
    "plt.ylabel('Loss')\n",
    "plt.legend()\n",
    "plt.show()"
   ]
  },
  {
   "cell_type": "code",
   "execution_count": 10,
   "metadata": {},
   "outputs": [
    {
     "data": {
      "image/png": "[encoded data removed]",
      "text/plain": [
       "<Figure size 432x288 with 1 Axes>"
      ]
     },
     "metadata": {
      "needs_background": "light"
     },
     "output_type": "display_data"
    }
   ],
   "source": [
    "# visualization train & validation accuracy\n",
    "plt.plot(range(num_epochs), training_accuracy, label='Training_accuracy')\n",
    "plt.plot(range(num_epochs), validation_accuracy, label='Validation_accuracy')\n",
    "plt.title('Training & Validation accuracy')\n",
    "plt.xlabel('Number of epochs')\n",
    "plt.ylabel('Accuracy')\n",
    "plt.legend()\n",
    "plt.show()"
   ]
  }
 ],
 "metadata": {
  "kernelspec": {
   "display_name": "Python 3.10.4 ('dev')",
   "language": "python",
   "name": "python3"
  },
  "language_info": {
   "codemirror_mode": {
    "name": "ipython",
    "version": 3
   },
   "file_extension": ".py",
   "mimetype": "text/x-python",
   "name": "python",
   "nbconvert_exporter": "python",
   "pygments_lexer": "ipython3",
   "version": "3.10.4"
  },
  "orig_nbformat": 4,
  "vscode": {
   "interpreter": {
    "hash": "13b5615636ce100b3fcb97c37af548f5959d8e3a6b621fa502b4f301792cb77b"
   }
  }
 },
 "nbformat": 4,
 "nbformat_minor": 2
}
